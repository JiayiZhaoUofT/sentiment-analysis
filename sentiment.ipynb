{
 "cells": [
  {
   "cell_type": "code",
   "execution_count": 384,
   "metadata": {
    "collapsed": false
   },
   "outputs": [],
   "source": [
    "import pandas as pd\n",
    "import numpy as np\n",
    "import re"
   ]
  },
  {
   "cell_type": "markdown",
   "metadata": {},
   "source": [
    "### Read data\n",
    "Read the generic_tweets.csv into the dataframe df.<br>\n",
    "Read the us_airline_tweets.csv into the dataframe us_df."
   ]
  },
  {
   "cell_type": "code",
   "execution_count": 385,
   "metadata": {
    "collapsed": false
   },
   "outputs": [],
   "source": [
    "df = pd.read_csv('generic_tweets.csv')\n",
    "us_df = pd.read_csv(\"US_airline_tweets.csv\")"
   ]
  },
  {
   "cell_type": "markdown",
   "metadata": {
    "collapsed": true
   },
   "source": [
    "### Data Cleaning <br>\n",
    "#### 1. Remove html tags\n",
    "Use the regular expression to match the html tags, and replace those tags with ''."
   ]
  },
  {
   "cell_type": "code",
   "execution_count": 386,
   "metadata": {
    "collapsed": true
   },
   "outputs": [],
   "source": [
    "tag_re = re.compile(r'<[^>]+>')\n",
    "\n",
    "def remove_tags(text):\n",
    "    return tag_re.sub('', text)"
   ]
  },
  {
   "cell_type": "code",
   "execution_count": 387,
   "metadata": {
    "collapsed": false
   },
   "outputs": [],
   "source": [
    "df['text'] = df['text'].apply(remove_tags)"
   ]
  },
  {
   "cell_type": "code",
   "execution_count": 388,
   "metadata": {
    "collapsed": true
   },
   "outputs": [],
   "source": [
    "us_df['text'] = us_df['text'].apply(remove_tags)"
   ]
  },
  {
   "cell_type": "markdown",
   "metadata": {},
   "source": [
    "#### 2. Repalce Html character codes with an ASCII equivalent.\n",
    "The html library provides method to change the escape sequence to normal words."
   ]
  },
  {
   "cell_type": "code",
   "execution_count": 389,
   "metadata": {
    "collapsed": false
   },
   "outputs": [],
   "source": [
    "import html\n",
    "def unescape_sequence(text):\n",
    "    txt = html.unescape(text)\n",
    "    return txt"
   ]
  },
  {
   "cell_type": "code",
   "execution_count": 390,
   "metadata": {
    "collapsed": true
   },
   "outputs": [],
   "source": [
    "df['text'] = df['text'].apply(unescape_sequence)"
   ]
  },
  {
   "cell_type": "code",
   "execution_count": 391,
   "metadata": {
    "collapsed": true
   },
   "outputs": [],
   "source": [
    "us_df['text'] = us_df['text'].apply(unescape_sequence)"
   ]
  },
  {
   "cell_type": "markdown",
   "metadata": {},
   "source": [
    "#### 3. Remove URL"
   ]
  },
  {
   "cell_type": "code",
   "execution_count": 392,
   "metadata": {
    "collapsed": false
   },
   "outputs": [],
   "source": [
    "import re\n",
    "def remove_url(text):\n",
    "    text = re.sub(r\"http\\S+\", \"\", text)\n",
    "    return text"
   ]
  },
  {
   "cell_type": "code",
   "execution_count": 393,
   "metadata": {
    "collapsed": true
   },
   "outputs": [],
   "source": [
    "df['text'] = df['text'].apply(remove_url)"
   ]
  },
  {
   "cell_type": "code",
   "execution_count": 394,
   "metadata": {
    "collapsed": true
   },
   "outputs": [],
   "source": [
    "us_df['text'] = us_df['text'].apply(remove_url)"
   ]
  },
  {
   "cell_type": "markdown",
   "metadata": {},
   "source": [
    "#### 4. Make all characters lowercase"
   ]
  },
  {
   "cell_type": "code",
   "execution_count": 395,
   "metadata": {
    "collapsed": false
   },
   "outputs": [],
   "source": [
    "def lower_character(text):\n",
    "    return text.lower()"
   ]
  },
  {
   "cell_type": "code",
   "execution_count": 396,
   "metadata": {
    "collapsed": true
   },
   "outputs": [],
   "source": [
    "df['text'] = df['text'].apply(lower_character)"
   ]
  },
  {
   "cell_type": "code",
   "execution_count": 397,
   "metadata": {
    "collapsed": true
   },
   "outputs": [],
   "source": [
    "us_df['text'] = us_df['text'].apply(lower_character)"
   ]
  },
  {
   "cell_type": "markdown",
   "metadata": {},
   "source": [
    "#### 5. Remove all stop words"
   ]
  },
  {
   "cell_type": "code",
   "execution_count": 398,
   "metadata": {
    "collapsed": false
   },
   "outputs": [],
   "source": [
    "#read the stop_words to a list\n",
    "f= open(\"stop_words.txt\")\n",
    "lines = f.readlines()\n",
    "f.close()\n",
    "stop_words =[(e.strip()) for e in lines]\n",
    "\n",
    "def remove_stopwords(text):\n",
    "    words = text.split(\" \")\n",
    "    newtext = \"\"\n",
    "    for word in words:\n",
    "        if word not in stop_words:\n",
    "            newtext += word\n",
    "            newtext += \" \"\n",
    "    return newtext        "
   ]
  },
  {
   "cell_type": "code",
   "execution_count": 399,
   "metadata": {
    "collapsed": false
   },
   "outputs": [],
   "source": [
    "df['text'] = df['text'].apply(remove_stopwords)"
   ]
  },
  {
   "cell_type": "code",
   "execution_count": 400,
   "metadata": {
    "collapsed": true
   },
   "outputs": [],
   "source": [
    "us_df['text'] = us_df['text'].apply(remove_stopwords)"
   ]
  },
  {
   "cell_type": "markdown",
   "metadata": {},
   "source": [
    "#### 6. remove special character\n",
    "After observing the tweets, I find some users likes to use some meaningless special characters such as \"...\", \"'\", \"-\". To make the text short, I remove those special characters.<br>\n",
    "As I need to use the '@' to match the tweets to the airlines later, so I didn't apply this function to the airline tweets."
   ]
  },
  {
   "cell_type": "code",
   "execution_count": 401,
   "metadata": {
    "collapsed": false
   },
   "outputs": [],
   "source": [
    "def remove_special_chr(text):\n",
    "    cleanString = re.sub('\\W+',' ', text)\n",
    "    return cleanString\n",
    "df['text'] = df['text'].apply(remove_special_chr)"
   ]
  },
  {
   "cell_type": "markdown",
   "metadata": {},
   "source": [
    "### Exploratory analysis\n",
    "#### 1. Design a procedure to determine the airlines of the tweets.\n",
    "1. The first step is to read the US_airline_tweets into the data frame.<br>\n",
    "2. The second step is to extract the airline name from the tweets. I observe that the airline name starts with an '@'. So we can find the word containing the '@', and then extract the string after '@'. <br>\n",
    "3. Make all the airline names lowercase. Because some users like to use the uppercase form, while others like to use lowercase form, so one airline will have several different names, such as 'USAirways','usairways'.\n",
    "4. Only keep the first word starting with '@'. Because the users like to mention other airlines when they complain about the airline they take. But the tweets only match the first airline mentioned. "
   ]
  },
  {
   "cell_type": "code",
   "execution_count": 402,
   "metadata": {
    "collapsed": false
   },
   "outputs": [],
   "source": [
    "#the function extract the word starting with @,\n",
    "#then remove the @ and return the word in lowercase\n",
    "def extract_tags(s):\n",
    "    for part in s.split():\n",
    "        if '@' in part:\n",
    "            name = part.split('@')[1]\n",
    "            airline_name = ''\n",
    "            for e in name:\n",
    "                if e.isalpha():\n",
    "                    airline_name = airline_name + e.lower()                   \n",
    "                else:\n",
    "                    return airline_name\n",
    "            return airline_name\n",
    "            "
   ]
  },
  {
   "cell_type": "code",
   "execution_count": 403,
   "metadata": {
    "collapsed": false
   },
   "outputs": [],
   "source": [
    "us_df['airline'] = us_df['text'].apply(extract_tags)"
   ]
  },
  {
   "cell_type": "code",
   "execution_count": 404,
   "metadata": {
    "collapsed": false
   },
   "outputs": [
    {
     "data": {
      "text/plain": [
       "united             3120\n",
       "usairways          2525\n",
       "americanair        2293\n",
       "southwestair       1755\n",
       "jetblue            1494\n",
       "virginamerica       333\n",
       "nrhodes               2\n",
       "deltaassist           2\n",
       "lindaswc              1\n",
       "sb                    1\n",
       "malhoit               1\n",
       "scm                   1\n",
       "djevolutionhd         1\n",
       "sarahpompei           1\n",
       "melissaafrancis       1\n",
       "kciairport            1\n",
       "nytimes               1\n",
       "dadboner              1\n",
       "timbennettg           1\n",
       "vanessaannz           1\n",
       "andrewfallis          1\n",
       "ninadavuluri          1\n",
       "imaginedragons        1\n",
       "eatgregeat            1\n",
       "unitedâ               1\n",
       "Name: airline, dtype: int64"
      ]
     },
     "execution_count": 404,
     "metadata": {},
     "output_type": "execute_result"
    }
   ],
   "source": [
    "#get the distribution of the airlines\n",
    "dis = us_df['airline'].value_counts()\n",
    "dis"
   ]
  },
  {
   "cell_type": "markdown",
   "metadata": {},
   "source": [
    "#### 2. Visualize the airline distribution\n",
    "We can only keep the first 6 lines, which are airlines mentioned by the tweets. There are two tweets about an airline named 'delta'. Comparing to the number of other airlines' comments, I decide to abandon them."
   ]
  },
  {
   "cell_type": "code",
   "execution_count": 405,
   "metadata": {
    "collapsed": false
   },
   "outputs": [],
   "source": [
    "dis = dis.iloc[0:6]"
   ]
  },
  {
   "cell_type": "code",
   "execution_count": 406,
   "metadata": {
    "collapsed": false
   },
   "outputs": [
    {
     "data": {
      "image/png": "[encoded data removed]",
      "text/plain": [
       "<matplotlib.figure.Figure at 0x7f377ea78e48>"
      ]
     },
     "metadata": {},
     "output_type": "display_data"
    }
   ],
   "source": [
    "%matplotlib inline\n",
    "import matplotlib.pyplot as plt\n",
    "plt.figure();\n",
    "fig = dis.plot.bar()\n",
    "fig.set_title(\"airline comments distribution\")\n",
    "plt.axhline(0, color='k')\n",
    "plt.show();"
   ]
  },
  {
   "cell_type": "markdown",
   "metadata": {},
   "source": [
    "##### Positive comments of the 6 airlines"
   ]
  },
  {
   "cell_type": "code",
   "execution_count": 407,
   "metadata": {
    "collapsed": false
   },
   "outputs": [
    {
     "data": {
      "text/plain": [
       "southwestair     569\n",
       "jetblue          542\n",
       "united           491\n",
       "americanair      336\n",
       "usairways        269\n",
       "virginamerica    152\n",
       "Name: airline, dtype: int64"
      ]
     },
     "execution_count": 407,
     "metadata": {},
     "output_type": "execute_result"
    }
   ],
   "source": [
    "us_pos = us_df.loc[us_df['sentiment'] == \"positive\"]\n",
    "dis_pos = us_pos['airline'].value_counts()\n",
    "dis_pos[0:6]"
   ]
  },
  {
   "cell_type": "markdown",
   "metadata": {},
   "source": [
    "##### Negative comments of the 6 airlines"
   ]
  },
  {
   "cell_type": "code",
   "execution_count": 408,
   "metadata": {
    "collapsed": false
   },
   "outputs": [
    {
     "data": {
      "text/plain": [
       "united           2629\n",
       "usairways        2256\n",
       "americanair      1957\n",
       "southwestair     1186\n",
       "jetblue           952\n",
       "virginamerica     181\n",
       "Name: airline, dtype: int64"
      ]
     },
     "execution_count": 408,
     "metadata": {},
     "output_type": "execute_result"
    }
   ],
   "source": [
    "us_neg = us_df.loc[us_df['sentiment'] == \"negative\"]\n",
    "dis_neg = us_neg['airline'].value_counts()\n",
    "dis_neg[0:6]"
   ]
  },
  {
   "cell_type": "code",
   "execution_count": 409,
   "metadata": {
    "collapsed": false
   },
   "outputs": [
    {
     "data": {
      "image/png": "[encoded data removed]",
      "text/plain": [
       "<matplotlib.figure.Figure at 0x7f377d090fd0>"
      ]
     },
     "metadata": {},
     "output_type": "display_data"
    }
   ],
   "source": [
    "%matplotlib inline\n",
    "import matplotlib.pyplot as plt\n",
    "plt.figure();\n",
    "plt.subplot(1,2,1)\n",
    "ax = dis_pos.iloc[0:6].plot.bar()\n",
    "ax.set_title(\"positive comments distribution\")\n",
    "plt.subplot(1,2,2)\n",
    "ax = dis_neg.iloc[0:6].plot.bar()\n",
    "ax.set_title(\"negative comments distribution\")\n",
    "plt.axhline(0, color='k')\n",
    "plt.subplots_adjust(wspace =1, hspace =0)\n",
    "plt.show();"
   ]
  },
  {
   "cell_type": "code",
   "execution_count": 410,
   "metadata": {
    "collapsed": false
   },
   "outputs": [
    {
     "data": {
      "text/plain": [
       "united           0.842628\n",
       "usairways        0.893465\n",
       "americanair      0.853467\n",
       "southwestair     0.675783\n",
       "jetblue          0.637216\n",
       "virginamerica    0.543544\n",
       "Name: airline, dtype: float64"
      ]
     },
     "execution_count": 410,
     "metadata": {},
     "output_type": "execute_result"
    }
   ],
   "source": [
    "neg_percentage = dis_neg.iloc[0:6]/dis.iloc[0:6]\n",
    "neg_percentage"
   ]
  },
  {
   "cell_type": "code",
   "execution_count": 411,
   "metadata": {
    "collapsed": false
   },
   "outputs": [
    {
     "data": {
      "image/png": "[encoded data removed]",
      "text/plain": [
       "<matplotlib.figure.Figure at 0x7f3776b03320>"
      ]
     },
     "metadata": {},
     "output_type": "display_data"
    }
   ],
   "source": [
    "%matplotlib inline\n",
    "import matplotlib.pyplot as plt\n",
    "plt.figure();\n",
    "# neg_percentage = dis_neg.iloc[0:6]/dis.iloc[0:6]\n",
    "ax = neg_percentage.plot.bar()\n",
    "ax.set_title(\"negtive comments percentage\")\n",
    "plt.axhline(0, color='k')\n",
    "plt.show();"
   ]
  },
  {
   "cell_type": "markdown",
   "metadata": {},
   "source": [
    "##### Observation:\n",
    "* Among all of the airlines, the negative comments are more than positive comments.\n",
    "* The united airline owns the most comments, the number of which is 3120. It also has the largest amount of negative comments.\n",
    "* The VirginAmeriaca airline has smallest amount of comments, but the percentage of negative comments is the lowest among the 6 airlines, which is 0.54%.\n",
    "* The USAirways has the highest percentage of negative comments, which is 0.89%.\n",
    "* The SouthwestAir has 569 positive comments, which is the most of the 6 airlines.\n",
    "<br>\n",
    "<br>\n",
    "Then we can explore the reason of negtive comments "
   ]
  },
  {
   "cell_type": "code",
   "execution_count": 412,
   "metadata": {
    "collapsed": false
   },
   "outputs": [
    {
     "data": {
      "text/plain": [
       "Customer Service Issue         2910\n",
       "Late Flight                    1665\n",
       "Can't Tell                     1190\n",
       "Cancelled Flight                847\n",
       "Lost Luggage                    724\n",
       "Bad Flight                      580\n",
       "Flight Booking Problems         529\n",
       "Flight Attendant Complaints     481\n",
       "longlines                       178\n",
       "Damaged Luggage                  74\n",
       "Name: negative_reason, dtype: int64"
      ]
     },
     "execution_count": 412,
     "metadata": {},
     "output_type": "execute_result"
    }
   ],
   "source": [
    "# plot = df.plot.pie(subplots=True, figsize=(6, 3))\n",
    "neg_reason = us_df.loc[us_df['sentiment'] == \"negative\"]\n",
    "neg_reason['negative_reason'].value_counts()"
   ]
  },
  {
   "cell_type": "code",
   "execution_count": 413,
   "metadata": {
    "collapsed": false
   },
   "outputs": [
    {
     "data": {
      "image/png": "[encoded data removed]",
      "text/plain": [
       "<matplotlib.figure.Figure at 0x7f3776adafd0>"
      ]
     },
     "metadata": {},
     "output_type": "display_data"
    }
   ],
   "source": [
    "%matplotlib inline\n",
    "import matplotlib.pyplot as plt\n",
    "plt.figure();\n",
    "neg_reason_dist = neg_reason['negative_reason'].value_counts()\n",
    "ax = neg_reason_dist.plot.pie(subplots=True, figsize=(5, 5))\n",
    "plt.show();"
   ]
  },
  {
   "cell_type": "markdown",
   "metadata": {},
   "source": [
    "##### Observation\n",
    "* There are ten reasons of negative comments.\n",
    "* \"Customer Service Issue\" is the most important reason."
   ]
  },
  {
   "cell_type": "markdown",
   "metadata": {},
   "source": [
    "\n",
    "#### 3. Show the aspects of generic tweets and the airline tweets\n",
    "I will show the negative and positive comments percentage in a pie chart"
   ]
  },
  {
   "cell_type": "code",
   "execution_count": 414,
   "metadata": {
    "collapsed": false
   },
   "outputs": [],
   "source": [
    "airline_pos_neg = us_df['sentiment'].value_counts()\n",
    "df['sentiment'] = df['class'].apply(lambda x: \"positive\" if x == 4 else \"negative\")\n",
    "generic_pos_neg = df['sentiment'].value_counts()"
   ]
  },
  {
   "cell_type": "code",
   "execution_count": 415,
   "metadata": {
    "collapsed": false
   },
   "outputs": [
    {
     "data": {
      "image/png": "[encoded data removed]",
      "text/plain": [
       "<matplotlib.figure.Figure at 0x7f37de793be0>"
      ]
     },
     "metadata": {},
     "output_type": "display_data"
    }
   ],
   "source": [
    "%matplotlib inline\n",
    "import matplotlib.pyplot as plt\n",
    "plt.figure();\n",
    "airline_pos_neg.plot.pie(subplots=True, figsize=(5, 5))\n",
    "plt.title(\"airline tweets\")\n",
    "plt.show();"
   ]
  },
  {
   "cell_type": "code",
   "execution_count": 416,
   "metadata": {
    "collapsed": false
   },
   "outputs": [
    {
     "data": {
      "image/png": "[encoded data removed]",
      "text/plain": [
       "<matplotlib.figure.Figure at 0x7f3776b03518>"
      ]
     },
     "metadata": {},
     "output_type": "display_data"
    }
   ],
   "source": [
    "%matplotlib inline\n",
    "import matplotlib.pyplot as plt\n",
    "plt.figure();\n",
    "ax = generic_pos_neg.plot.pie(subplots=True, figsize=(5, 5))\n",
    "plt.title(\"generic tweets\")\n",
    "plt.show();"
   ]
  },
  {
   "cell_type": "markdown",
   "metadata": {},
   "source": [
    "### Model preparation"
   ]
  },
  {
   "cell_type": "markdown",
   "metadata": {},
   "source": [
    "* To extract the numerical features from the text contents. I use the CountVectorize to tokenize and count the word occurrences of the text. "
   ]
  },
  {
   "cell_type": "code",
   "execution_count": 417,
   "metadata": {
    "collapsed": true
   },
   "outputs": [],
   "source": [
    "from sklearn.feature_extraction.text import CountVectorizer"
   ]
  },
  {
   "cell_type": "code",
   "execution_count": 418,
   "metadata": {
    "collapsed": false
   },
   "outputs": [
    {
     "data": {
      "text/plain": [
       "CountVectorizer(analyzer='word', binary=False, decode_error='strict',\n",
       "        dtype=<class 'numpy.int64'>, encoding='utf-8', input='content',\n",
       "        lowercase=True, max_df=1.0, max_features=None, min_df=1,\n",
       "        ngram_range=(1, 1), preprocessor=None, stop_words=None,\n",
       "        strip_accents=None, token_pattern='(?u)\\\\b\\\\w\\\\w+\\\\b',\n",
       "        tokenizer=None, vocabulary=None)"
      ]
     },
     "execution_count": 418,
     "metadata": {},
     "output_type": "execute_result"
    }
   ],
   "source": [
    "vectorizer = CountVectorizer()\n",
    "vectorizer  "
   ]
  },
  {
   "cell_type": "markdown",
   "metadata": {},
   "source": [
    "* Get the corpus from the tweets."
   ]
  },
  {
   "cell_type": "code",
   "execution_count": 419,
   "metadata": {
    "collapsed": false
   },
   "outputs": [],
   "source": [
    "corpus = df['text'].apply(lambda row: row.strip())"
   ]
  },
  {
   "cell_type": "markdown",
   "metadata": {},
   "source": [
    "* The size of the X matrix is 200000x14014, which means there are 14014 features extracted from the text."
   ]
  },
  {
   "cell_type": "code",
   "execution_count": 420,
   "metadata": {
    "collapsed": false
   },
   "outputs": [
    {
     "data": {
      "text/plain": [
       "<200000x140145 sparse matrix of type '<class 'numpy.int64'>'\n",
       "\twith 1260621 stored elements in Compressed Sparse Row format>"
      ]
     },
     "execution_count": 420,
     "metadata": {},
     "output_type": "execute_result"
    }
   ],
   "source": [
    "X = vectorizer.fit_transform(corpus)\n",
    "X"
   ]
  },
  {
   "cell_type": "markdown",
   "metadata": {},
   "source": [
    "* Prepare the target data, I represent positive as 1, negative as -1.\n",
    "* Use train_test_split to split the data randomly into training set and test set."
   ]
  },
  {
   "cell_type": "code",
   "execution_count": 421,
   "metadata": {
    "collapsed": false
   },
   "outputs": [],
   "source": [
    "y = df['class'].apply(lambda row: -1 if row == 0 else 1)\n",
    "from sklearn.model_selection import train_test_split\n",
    "X_train, X_test, y_train, y_test = train_test_split(X, y, test_size=0.30, random_state=42)"
   ]
  },
  {
   "cell_type": "markdown",
   "metadata": {},
   "source": [
    "* Import the logistic Regression model and train the model by using the training data."
   ]
  },
  {
   "cell_type": "code",
   "execution_count": 422,
   "metadata": {
    "collapsed": false
   },
   "outputs": [
    {
     "data": {
      "text/plain": [
       "LogisticRegression(C=1.0, class_weight=None, dual=False, fit_intercept=True,\n",
       "          intercept_scaling=1, max_iter=100, multi_class='ovr', n_jobs=1,\n",
       "          penalty='l2', random_state=None, solver='liblinear', tol=0.0001,\n",
       "          verbose=0, warm_start=False)"
      ]
     },
     "execution_count": 422,
     "metadata": {},
     "output_type": "execute_result"
    }
   ],
   "source": [
    "from sklearn.linear_model import LogisticRegression \n",
    "classifier = LogisticRegression()\n",
    "classifier.fit(X_train, y_train) "
   ]
  },
  {
   "cell_type": "markdown",
   "metadata": {},
   "source": [
    "* The accuracy of predicting the generic tweets test set is 74%"
   ]
  },
  {
   "cell_type": "code",
   "execution_count": 423,
   "metadata": {
    "collapsed": false
   },
   "outputs": [
    {
     "data": {
      "text/plain": [
       "0.7422666666666666"
      ]
     },
     "execution_count": 423,
     "metadata": {},
     "output_type": "execute_result"
    }
   ],
   "source": [
    "accuracy = classifier.score(X_test, y_test) \n",
    "accuracy"
   ]
  },
  {
   "cell_type": "markdown",
   "metadata": {},
   "source": [
    "### Model implementation \n",
    "* Apply the model to the us airline tweets\n",
    "* The accuracy is 74.6%\n",
    "<br><br>\n",
    "* Train a multi-class logistic regression model"
   ]
  },
  {
   "cell_type": "code",
   "execution_count": 424,
   "metadata": {
    "collapsed": false
   },
   "outputs": [],
   "source": [
    "us_data = us_df['text'].apply(lambda row: row.strip())\n",
    "X_us = vectorizer.transform(us_data)\n",
    "y_us = us_df['sentiment'].apply(lambda row: -1 if row == \"negative\" else 1)"
   ]
  },
  {
   "cell_type": "code",
   "execution_count": 425,
   "metadata": {
    "collapsed": false
   },
   "outputs": [
    {
     "data": {
      "text/plain": [
       "0.7461225197123299"
      ]
     },
     "execution_count": 425,
     "metadata": {},
     "output_type": "execute_result"
    }
   ],
   "source": [
    "y_us_predict = classifier.predict(X_us)\n",
    "# save the predict sentiment to the us_df\n",
    "us_df['predict_sentiment'] = y_us_predict\n",
    "# get the prediction accuracy\n",
    "accuracy_airline = classifier.score(X_us, y_us) \n",
    "accuracy_airline"
   ]
  },
  {
   "cell_type": "markdown",
   "metadata": {},
   "source": [
    "##### Train a multi-class logistic regression model "
   ]
  },
  {
   "cell_type": "code",
   "execution_count": 426,
   "metadata": {
    "collapsed": false
   },
   "outputs": [
    {
     "data": {
      "text/plain": [
       "Customer Service Issue         2910\n",
       "Late Flight                    1665\n",
       "Can't Tell                     1190\n",
       "Cancelled Flight                847\n",
       "Lost Luggage                    724\n",
       "Bad Flight                      580\n",
       "Flight Booking Problems         529\n",
       "Flight Attendant Complaints     481\n",
       "longlines                       178\n",
       "Damaged Luggage                  74\n",
       "Name: negative_reason, dtype: int64"
      ]
     },
     "execution_count": 426,
     "metadata": {},
     "output_type": "execute_result"
    }
   ],
   "source": [
    "# prepare the data\n",
    "us_df['negative_reason'].value_counts()"
   ]
  },
  {
   "cell_type": "markdown",
   "metadata": {},
   "source": [
    "#### label encoding\n",
    "* The flight booking problems and bad flight also belongs to the service issue, so I combine the three reasons.\n",
    "* I combine the reasons about luggage.\n",
    "* I combine the reasons about cancelled or late flights.\n",
    "* From the observation of the tweets, I find the longlines are always caused by the bad work of the attendant, so I combine the 'Flight Attendant Complaints' and 'longlines'.\n",
    "* There are 5 categories."
   ]
  },
  {
   "cell_type": "code",
   "execution_count": 427,
   "metadata": {
    "collapsed": true
   },
   "outputs": [],
   "source": [
    "def label_encoding(text):\n",
    "    label_encoding_dict={\n",
    "        'Customer Service Issue':0,\n",
    "        'Flight Booking Problems':0,\n",
    "        'Bad Flight':0,\n",
    "        'Late Flight':1,\n",
    "        'Cancelled Flight':1,\n",
    "        'Lost Luggage':2,\n",
    "        'Damaged Luggage':2, \n",
    "        'Flight Attendant Complaints':3,\n",
    "        'longlines':3,\n",
    "        \"Can't Tell\":4   \n",
    "    }\n",
    "    return label_encoding_dict[text]"
   ]
  },
  {
   "cell_type": "code",
   "execution_count": 428,
   "metadata": {
    "collapsed": false
   },
   "outputs": [],
   "source": [
    "#label the reason\n",
    "us_df['negative_label'] = neg_airline_df['negative_reason'].apply(label_encoding)"
   ]
  },
  {
   "cell_type": "markdown",
   "metadata": {},
   "source": [
    "* The features are the words occurence in the text.\n",
    "* Vectorize the text and count the occurences of each words."
   ]
  },
  {
   "cell_type": "code",
   "execution_count": 429,
   "metadata": {
    "collapsed": false
   },
   "outputs": [
    {
     "data": {
      "text/plain": [
       "OneVsRestClassifier(estimator=LogisticRegression(C=1.0, class_weight=None, dual=False, fit_intercept=True,\n",
       "          intercept_scaling=1, max_iter=100, multi_class='ovr', n_jobs=1,\n",
       "          penalty='l2', random_state=None, solver='liblinear', tol=0.0001,\n",
       "          verbose=0, warm_start=False),\n",
       "          n_jobs=1)"
      ]
     },
     "execution_count": 429,
     "metadata": {},
     "output_type": "execute_result"
    }
   ],
   "source": [
    "from sklearn.feature_extraction.text import CountVectorizer\n",
    "import numpy as np\n",
    "\n",
    "multiclass_vectorizer = CountVectorizer()\n",
    "X_airline = multiclass_vectorizer.fit_transform(neg_airline_df['text'])\n",
    "y_airline = neg_airline_df['negative_label']\n",
    "#split the data randomly into training set and test set\n",
    "X_airline_train, X_airline_test, y_airline_train, y_airline_test = train_test_split(X_airline, y_airline, test_size=0.30, random_state=20)\n",
    "\n",
    "from sklearn.multiclass import OneVsRestClassifier\n",
    "\n",
    "multiclass_model = OneVsRestClassifier(LogisticRegression())\n",
    "multiclass_model.fit(X_airline_train, y_airline_train)"
   ]
  },
  {
   "cell_type": "markdown",
   "metadata": {},
   "source": [
    "* test the multi class logistic regression model with the test set."
   ]
  },
  {
   "cell_type": "code",
   "execution_count": 430,
   "metadata": {
    "collapsed": false
   },
   "outputs": [
    {
     "name": "stdout",
     "output_type": "stream",
     "text": [
      "Accuracy: 0.6826434277414669\n"
     ]
    }
   ],
   "source": [
    "print('Accuracy:', multiclass_model.score(X_airline_test, y_airline_test))"
   ]
  },
  {
   "cell_type": "markdown",
   "metadata": {},
   "source": [
    "### Analysis\n",
    "* Show the negative and positive sentiment percentage for each airline\n",
    "* Show the negative reason for each airline\n",
    "* Discuss the public opinion of the us airlines 2015\n",
    "united             3120\n",
    "usairways          2525\n",
    "americanair        2293\n",
    "southwestair       1755\n",
    "jetblue            1494\n",
    "virginamerica       333"
   ]
  },
  {
   "cell_type": "code",
   "execution_count": 431,
   "metadata": {
    "collapsed": false
   },
   "outputs": [],
   "source": [
    "united_tw = us_df.loc[us_df['airline'] == \"united\"]\n",
    "usairways_tw = us_df.loc[us_df['airline'] == \"usairways\"]\n",
    "americanair_tw = us_df.loc[us_df['airline'] == \"americanair\"]\n",
    "southwestair_tw = us_df.loc[us_df['airline'] == \"southwestair\"]\n",
    "jetblue_tw = us_df.loc[us_df['airline'] == \"jetblue\"]\n",
    "virginamerica_tw = us_df.loc[us_df['airline'] == \"virginamerica\"]"
   ]
  },
  {
   "cell_type": "code",
   "execution_count": 432,
   "metadata": {
    "collapsed": false
   },
   "outputs": [
    {
     "data": {
      "image/png": "[encoded data removed]",
      "text/plain": [
       "<matplotlib.figure.Figure at 0x7f3789a98898>"
      ]
     },
     "metadata": {},
     "output_type": "display_data"
    }
   ],
   "source": [
    "%matplotlib inline\n",
    "import matplotlib.pyplot as plt\n",
    "plt.figure();\n",
    "plt.subplot(3,2,1)\n",
    "united_pos_neg = united_tw['predict_sentiment'].value_counts()\n",
    "ax = united_pos_neg.plot.pie(subplots=True, figsize=(5, 5))\n",
    "plt.title(\"united\")\n",
    "\n",
    "plt.subplot(3,2,2)\n",
    "usairways_pos_neg = usairways_tw['predict_sentiment'].value_counts()\n",
    "ax = usairways_pos_neg.plot.pie(subplots=True, figsize=(5, 5))\n",
    "plt.title(\"USAirways\")\n",
    "plt.subplots_adjust(wspace =1, hspace =1)\n",
    "\n",
    "plt.subplot(3,2,3)\n",
    "americanair_pos_neg = americanair_tw['predict_sentiment'].value_counts()\n",
    "ax = americanair_pos_neg.plot.pie(subplots=True, figsize=(5, 5))\n",
    "plt.title(\"AmericanAir\")\n",
    "plt.subplots_adjust(wspace =1, hspace =1)\n",
    "\n",
    "\n",
    "plt.subplot(3,2,4)\n",
    "southwestair_pos_neg = southwestair_tw['predict_sentiment'].value_counts()\n",
    "ax = southwestair_pos_neg.plot.pie(subplots=True, figsize=(5, 5))\n",
    "plt.title(\"SouthwestAir\")\n",
    "plt.subplots_adjust(wspace =1, hspace =1)\n",
    "\n",
    "plt.subplot(3,2,5)\n",
    "jetblue_pos_neg = jetblue_tw['predict_sentiment'].value_counts()\n",
    "ax = jetblue_pos_neg.plot.pie(subplots=True, figsize=(5, 5))\n",
    "plt.title(\"JetBlue\")\n",
    "plt.subplots_adjust(wspace =1, hspace =1)\n",
    "\n",
    "\n",
    "plt.subplot(3,2,6)\n",
    "virginamerica_pos_neg = virginamerica_tw['predict_sentiment'].value_counts()\n",
    "ax = virginamerica_pos_neg.plot.pie(subplots=True, figsize=(5, 5))\n",
    "plt.title(\"VirginAmerica\")\n",
    "plt.subplots_adjust(wspace =1, hspace =1)\n",
    "\n",
    "plt.show();"
   ]
  },
  {
   "cell_type": "code",
   "execution_count": 433,
   "metadata": {
    "collapsed": false
   },
   "outputs": [
    {
     "data": {
      "text/plain": [
       "0.0    4019\n",
       "1.0    2512\n",
       "4.0    1190\n",
       "2.0     798\n",
       "3.0     659\n",
       "Name: negative_label, dtype: int64"
      ]
     },
     "execution_count": 433,
     "metadata": {},
     "output_type": "execute_result"
    }
   ],
   "source": [
    "#the negative reasons\n",
    "neg_tw = us_df.loc[us_df['predict_sentiment'] == -1]\n",
    "neg_reasons = us_df['negative_label'].value_counts()\n",
    "neg_reasons"
   ]
  },
  {
   "cell_type": "code",
   "execution_count": 434,
   "metadata": {
    "collapsed": false
   },
   "outputs": [
    {
     "data": {
      "image/png": "[encoded data removed]",
      "text/plain": [
       "<matplotlib.figure.Figure at 0x7f379053afd0>"
      ]
     },
     "metadata": {},
     "output_type": "display_data"
    }
   ],
   "source": [
    "%matplotlib inline\n",
    "import matplotlib.pyplot as plt\n",
    "plt.figure();\n",
    "neg_reasons.plot.bar()\n",
    "plt.title(\"overall negative reasons\")\n",
    "plt.axhline(0, color='k')\n",
    "plt.show();"
   ]
  },
  {
   "cell_type": "markdown",
   "metadata": {},
   "source": [
    " * 0:  'Customer Service Issue','Flight Booking Problems','Bad Flight'\n",
    " * 1:  'Late Flight','Cancelled Flight'\n",
    " * 2:  'Lost Luggage', 'Damaged Luggage'\n",
    " * 3:  'Flight Attendant Complaints','longlines'\n",
    " * 4:  'Can't Tell'"
   ]
  },
  {
   "cell_type": "markdown",
   "metadata": {},
   "source": [
    "##### find the potential reason why united airline get so many positive comments\n",
    "* Comparing the reasons of united airline with the virgina airline"
   ]
  },
  {
   "cell_type": "code",
   "execution_count": 435,
   "metadata": {
    "collapsed": false
   },
   "outputs": [
    {
     "data": {
      "image/png": "[encoded data removed]",
      "text/plain": [
       "<matplotlib.figure.Figure at 0x7f37743a42e8>"
      ]
     },
     "metadata": {},
     "output_type": "display_data"
    }
   ],
   "source": [
    "united_tw_neg = united_tw.loc[us_df['predict_sentiment'] == -1]\n",
    "united_neg_reason = united_tw_neg['negative_label'].value_counts()\n",
    "\n",
    "virgina_tw_neg = virginamerica_tw.loc[us_df['predict_sentiment'] == -1]\n",
    "virgina_neg_reason =virgina_tw_neg['negative_label'].value_counts()\n",
    "\n",
    "%matplotlib inline\n",
    "import matplotlib.pyplot as plt\n",
    "plt.figure();\n",
    "plt.subplot(1,2,1)\n",
    "united_neg_reason.plot.bar()\n",
    "plt.title(\"United airline negative reasons\")\n",
    "\n",
    "plt.subplot(1,2,2)\n",
    "virgina_neg_reason.plot.bar()\n",
    "plt.title(\"virginaAmerica negative reasons\")\n",
    "plt.subplots_adjust(wspace =1, hspace =0)\n",
    "plt.axhline(0, color='k')\n",
    "plt.show();"
   ]
  },
  {
   "cell_type": "markdown",
   "metadata": {},
   "source": [
    "**Question**: What can public opinion on Twitter tell us about the US airlines in 2015?\n",
    "From the plot above we can see: \n",
    "* the overall opinion about the US airlines are negative.\n",
    "* the USAirways has the most percentage of negative tweets.\n",
    "* the VirginAmerica has the most percentage of positive tweets.\n",
    "* the most negative comments reason is customer Service Issue, flight booking problems, and bad flight.\n",
    "* after comparing the negative reasons of united airline and VirginaAmerica airline, I find that the Virgina airline does well in 'Late Flight' and 'Cancelled Flight'. So in the public opinion, the VirginaAmerica is more reliable on time."
   ]
  },
  {
   "cell_type": "markdown",
   "metadata": {},
   "source": [
    "**Questions**: For both models, suggest one way you can improve the accuracy of your models.\n",
    "* For the first model, I tried to get the score of the text by using the 'corpus.txt', however, I find the score is not enought to show me the relation between the sentiment and the score. So I abandoned the way. But I think if I can find a more reasonble corpus, I can add this feature to the model.\n",
    "* For the second model, as there are more classes, so I think I can use the bigram method to extract features. "
   ]
  }
 ],
 "metadata": {
  "kernelspec": {
   "display_name": "Python 3",
   "language": "python",
   "name": "python3"
  },
  "language_info": {
   "codemirror_mode": {
    "name": "ipython",
    "version": 3
   },
   "file_extension": ".py",
   "mimetype": "text/x-python",
   "name": "python",
   "nbconvert_exporter": "python",
   "pygments_lexer": "ipython3",
   "version": "3.5.2"
  },
  "widgets": {
   "state": {},
   "version": "1.1.2"
  }
 },
 "nbformat": 4,
 "nbformat_minor": 0
}
